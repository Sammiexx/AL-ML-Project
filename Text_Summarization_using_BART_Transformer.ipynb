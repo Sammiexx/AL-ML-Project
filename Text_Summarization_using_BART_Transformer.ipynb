{
 "cells": [
  {
   "cell_type": "markdown",
   "metadata": {
    "colab_type": "text",
    "id": "view-in-github"
   },
   "source": [
    "<a href=\"https://colab.research.google.com/github/Sammiexx/AL-ML-Project/blob/main/Text_Summarization_using_BART_Transformer.ipynb\" target=\"_parent\"><img src=\"https://colab.research.google.com/assets/colab-badge.svg\" alt=\"Open In Colab\"/></a>"
   ]
  },
  {
   "cell_type": "markdown",
   "metadata": {
    "id": "V-vQZSP_81qf"
   },
   "source": [
    "# Text Summarization using BART Transformer"
   ]
  },
  {
   "cell_type": "code",
   "execution_count": null,
   "metadata": {
    "colab": {
     "base_uri": "https://localhost:8080/"
    },
    "id": "_u25vy-7Cp3R",
    "outputId": "ac08e435-fe79-48f6-d1f8-706e180fd3b3"
   },
   "outputs": [],
   "source": [
    "!pip install transformers\n",
    "!pip install datasets"
   ]
  },
  {
   "cell_type": "code",
   "execution_count": null,
   "metadata": {
    "colab": {
     "base_uri": "https://localhost:8080/",
     "height": 345,
     "referenced_widgets": [
      "073049942dbd474bbeb0b27f39a11bdd",
      "e32a31e1ef1647f59ca60f07149f99d0",
      "970448b9449c46ecbfe7f7b5ed769afd",
      "f82ece418b4345be9d087412bc3bb894",
      "caa241e8c7104232b95a59c8db3a7c8f",
      "6b7eb5f808784a1eaa062c5c9a703c88",
      "a634fea393ea4f0594c95ab2ba5b06a5",
      "4ab7968b9152492da63938e8fee89812",
      "f294441f404e40ce8db657e399a3f896",
      "2085955c046d466e864f53af8f2160f5",
      "9d84f7b029eb4ccdbecad444fe692cbb",
      "b41652b18dc84d91950a1745faf487fd",
      "f8f7607f744d46f2a24c9d25e248d5ba",
      "71f6785e6a8e4388b8aa4db4b4afc4d3",
      "09898e3a3b6d49caa25b76009cf57c2c",
      "ae1fba09fb784396915cfd6966e7b403",
      "f542fd5b1a6d43369a2fae03f3eb781e",
      "fea80aedb49145148382f8f8f3e7aed2",
      "b40828a647d246dda5f31a0e2861fa50",
      "544a9e7d466448bcb56bf1ec8dc94601",
      "a4ddba2fd997419ca7937af8ab2c04f8",
      "3ec4af1fffba4683afca1c2b90611a1c",
      "d8bfb4c062374fa0ac938c7878eef665",
      "f9f9db7ca97a47c4ae3633ace72587f3",
      "73c7ac223fa546e4bc9481e13b2842d9",
      "4ed36a6bcbb442dd838d0820a4b4d14e",
      "cee63c83f3514a178fc0cea4ae62558b",
      "922aa44aeb2540a2961dc38b981ea33e",
      "4d1fef14373e48a38f56cc23aef33589",
      "1fee84fcf64644359fb8e3b9d790e078",
      "03684f93790d4fb78cb3eafa754eb5ed",
      "950f74d2c7984f96ac7d18c684c18201",
      "90ffc0dd6d77407195867aa05527da44",
      "336bad10ac454ce7928bf1a4257f5833",
      "04c4a08cb3a34b30a4cfa5ffa899b706",
      "d1dfec849d8d41629c9ce9249686f4f1",
      "4ff18b7ef25f42ca8bdab02564dfe5a5",
      "6c46015d283541929838c66b8ad8c012",
      "308b20449b094f78953953894c586251",
      "7f28bd32bf6b419784d9aa36e9b5aade",
      "2828f21f67d74bed986e4fbb003a9a7c",
      "4ae358887eb145d7ad25c6c2d06b29bf",
      "30b640a1b3424230be34fb70878437df",
      "3641534d592742f19b4315b0319f4685",
      "2f401e445e4341988e9c3ca18c86b44d",
      "f9e5e95b19b341cca1cb48ab6a7fa7d1",
      "7c647fbb9f6e47918c70378a48251066",
      "427517581c28472e8313beb4aad6c078",
      "876ec3289a3541a59ded36c81e5a2088",
      "552c63042933467e9bcf1324aa6bd965",
      "34229daae50340a9a81bfe3a718b192c",
      "ccec7dc4ca1a4fb59ec80100bd4a43fe",
      "0b7f878b241941569262e5109ea1626c",
      "964d8525be124e55860df2edc8eb2cd5",
      "14a20f3e15a44db6884945019b014cef",
      "8f75d6f9ce8845168b55f27fee4ed6e7",
      "5f5af5376a3d4f7d84a4a48d3090c552",
      "206b1ff3217a4cdfa9a882f313387263",
      "d6b4948dcbee45d78c271e465c10d565",
      "b5a72a3c1d714c17a43573cda60d82e9",
      "4d1eeccf735a40c89ee75db186b5db12",
      "c4c172e7ec024889a8dfb03fd29dfd82",
      "ea12fc5e0b7041b2a4e207345a83b4f3",
      "f6b92d0062f148f18aa244c9f6d4eedc",
      "2338fd912cc044148ea40fd02ce8c8c9",
      "caa95b3086f24e859e534af564c4b864",
      "48c2c7236f1d40ca884b05acd6d4060e",
      "ba0b3eab3a404be096895c658a105b39",
      "042f0464aaaa47f0aea3f41f6b4c14cf",
      "dc9e33294def41b8a12bb2ba7dead1bb",
      "da7e07d6cfb241b595ff9e9982944327",
      "60eb47ca700d4d8ebb4f6abd4ac5cc35",
      "dd18a38e4ebd46f0af25348fc90d05c4",
      "c8790293fd234205b74620b1fe576901",
      "02cd3a2bdb10448dbfde2aa12aefd3c1",
      "91f2258a18014b16a5f6ea0489af60c4",
      "30bdd945c31649ddb17c6098c6a03b72"
     ]
    },
    "id": "qytif5D-0GAp",
    "outputId": "6de08bc5-fae4-4d81-e521-2b40abb2f81f"
   },
   "outputs": [],
   "source": [
    "# LOADING THE DATASET\n",
    "from datasets import load_dataset\n",
    "\n",
    "ds = load_dataset(\"knkarthick/dialogsum\")"
   ]
  },
  {
   "cell_type": "code",
   "execution_count": null,
   "metadata": {
    "colab": {
     "base_uri": "https://localhost:8080/"
    },
    "id": "O-FtJ8M7Dh37",
    "outputId": "79c4d9dd-41f8-46a9-c92c-f0c8d5938fe1"
   },
   "outputs": [],
   "source": [
    "ds"
   ]
  },
  {
   "cell_type": "code",
   "execution_count": null,
   "metadata": {
    "colab": {
     "base_uri": "https://localhost:8080/",
     "height": 105
    },
    "id": "TxRdJnPxEW3q",
    "outputId": "9992e484-e3b6-4072-f021-5b9d124f6081"
   },
   "outputs": [],
   "source": [
    "ds['train'][1]['dialogue']"
   ]
  },
  {
   "cell_type": "code",
   "execution_count": null,
   "metadata": {
    "colab": {
     "base_uri": "https://localhost:8080/",
     "height": 35
    },
    "id": "c8NrDOZTEnBt",
    "outputId": "881c6f63-c3c5-4624-8acd-91e5c7cebfd5"
   },
   "outputs": [],
   "source": [
    "ds['train'][1]['summary']"
   ]
  },
  {
   "cell_type": "markdown",
   "metadata": {
    "id": "j_rM1-Gn8zVF"
   },
   "source": [
    "### WITHOUT FINE - TUNING"
   ]
  },
  {
   "cell_type": "code",
   "execution_count": null,
   "metadata": {
    "colab": {
     "base_uri": "https://localhost:8080/",
     "height": 226,
     "referenced_widgets": [
      "e12b46de7f344d4a89578de98b3ddae8",
      "630d7d53c4c5405c8fdf9cfd4d09cb06",
      "fbb580ba37e54baea7a66adbb7b151ba",
      "240fd8285a774d10ac067d00d4312b99",
      "e0e90a15033d48b492af1e1d43fc109a",
      "b7a1cd429cab44b4b593f555d165eb1e",
      "eba33fcbef5549ab9f018bbd39d51a6c",
      "7bf7df12a7204e898c1008b25c718cf1",
      "4c12520945f74800827751b983c1f937",
      "3bf9dc3fb8a940369ea273e4ecb79d5b",
      "e6bca7c055034c0c8b933cc87eef7dfd",
      "9df2f2594cde497cb2103359af6469d5",
      "780075fe8c9340afaa8e39c069401857",
      "4ce9272017f0435b9b155b37131f6333",
      "b65958689cb54ed28eaca890c438a79c",
      "a45a419d7d0d4d48bbafeb6ca4d6eeae",
      "40acdc4899df4df8b73de0c2d8555b2c",
      "698427eb171d496bb13f8689fad13d6d",
      "dd2875a5eb5345f685ad80831be1cb43",
      "d45481fe9deb4fcaa98dbdbbfd8000a7",
      "bf6bb606faee49f3a00a62dbeb452d84",
      "a3ce83e29ddc4cb49bcf507741677d14",
      "91b68d36f67145be894d16eea8d52a07",
      "0f488c51cbd94205a69ecd0ae6695300",
      "f0115e4ae6eb4ec5ae68099ec9114901",
      "494783e761d647a7ac3675aa2f51d4b2",
      "f0c3699fc06f42edaf4a7ff43e3c283c",
      "8e544c6b940a4c909243a5d04ae0b7b7",
      "7d98f6d0b36349e1b31b74758d1dffcd",
      "911b139d28f04787a35be2cea61dd56b",
      "6907b96adb7a441883cd1c180ef4ea41",
      "fa74163ead90408699c3d4cb638d4a71",
      "c99b90a3b2ba48fd8151b3d44883b000",
      "fab3ac8a96d344cd9e29fa5e5d5b2997",
      "76c7f5d2b556461c865152857e517551",
      "c0840aed478d4cbaa96ca809e214e8bf",
      "69cd98e3ec5b4169a6a6e9be46744bdf",
      "108eaceb877b49079047977329782a91",
      "7d17ed904eef490fb388d58016fea175",
      "6c2bab708c0c4f8687680a3f0fa60fcd",
      "1c1092b9e8344f7d90627156146e9b8c",
      "11b74146eec64731a7195dec53c04c61",
      "4b9881e6934c49e09a9c20c711baa403",
      "aea60665e8c14ba1b4bec4d00ced908b",
      "48ae3383e1734fcba87dca1033a627f4",
      "d601617b0b2a4f1da6492d2a229fc72f",
      "f605dd058807404194e7d67f8987c6e5",
      "50f2a4a611ab424ca2188bc5aacb4174",
      "7d2676c0b1024ea9a2659aa2ab02044d",
      "95703c5da94548d1ab70d557782b484e",
      "19000280e17b41aea7f21401bde8a62f",
      "013cac88d54e4da18f2ab59171d539c0",
      "120728bc20754e968f138ed39896d60c",
      "7ae0d67873424c85a75ccd1f7ef76629",
      "4e65a99046b14859a7f1767608b2ec8c",
      "8467046d36344e4c97adb5c708b19ef0",
      "934bcedf840146968a0afd1891084899",
      "7668eac37806499b8aeee0d749c5277e",
      "605ab4b3b4834fe787e105f2bfa036d0",
      "50c14bbf6bd849bab73de05ab154ca35",
      "6d8de36148fc4d70aea5ae055658b173",
      "28d737db21754e0c80ae7bc97d9b9c84",
      "39c4e58fa34b447db12daf59cd0acc6c",
      "98e34b7c96eb46f5bb07f2a1820fa285",
      "42bde1a8b0134ad6bf80f1f738990ae7",
      "4510195333454dbdbf23e7c23903c84c"
     ]
    },
    "id": "Eb0ELNDW9V8N",
    "outputId": "d6b5457b-9d79-4c53-b3d0-e1405e8d1509"
   },
   "outputs": [],
   "source": [
    "# Use a pipeline as a high-level helper\n",
    "from transformers import pipeline\n",
    "\n",
    "pipe = pipeline(\"summarization\", model=\"facebook/bart-large-cnn\")"
   ]
  },
  {
   "cell_type": "code",
   "execution_count": null,
   "metadata": {
    "id": "TM_g4uzXF5zE"
   },
   "outputs": [],
   "source": [
    "article_1 = ds['train'][1]['dialogue']"
   ]
  },
  {
   "cell_type": "code",
   "execution_count": null,
   "metadata": {
    "colab": {
     "base_uri": "https://localhost:8080/"
    },
    "id": "zo1BR6eUGRVV",
    "outputId": "1b401c44-211d-492b-8193-5144fb8262fa"
   },
   "outputs": [],
   "source": [
    "pipe(article_1, max_length=20, min_length=10, do_sample=False)"
   ]
  },
  {
   "cell_type": "code",
   "execution_count": null,
   "metadata": {
    "colab": {
     "base_uri": "https://localhost:8080/",
     "height": 35
    },
    "id": "W6vpoZg9EjXg",
    "outputId": "bd94d6ef-a018-4ab5-8d6e-6afe884d358d"
   },
   "outputs": [],
   "source": [
    "ds['train'][1]['summary']"
   ]
  },
  {
   "cell_type": "markdown",
   "metadata": {
    "id": "Y3jc6QaBHXOQ"
   },
   "source": [
    "### WITH FINE - TUNING"
   ]
  },
  {
   "cell_type": "code",
   "execution_count": null,
   "metadata": {
    "id": "OIyQ4N0NHjBg"
   },
   "outputs": [],
   "source": [
    "# Load model directly\n",
    "from transformers import AutoTokenizer, AutoModelForSeq2SeqLM\n",
    "\n",
    "tokenizer = AutoTokenizer.from_pretrained(\"facebook/bart-large-cnn\")\n",
    "model = AutoModelForSeq2SeqLM.from_pretrained(\"facebook/bart-large-cnn\")"
   ]
  },
  {
   "cell_type": "code",
   "execution_count": null,
   "metadata": {
    "id": "V-g-91KIH3Px"
   },
   "outputs": [],
   "source": [
    "# tokenization\n",
    "def preprocess_function(batch):\n",
    "  source = batch['dialogue']\n",
    "  target = batch['summary']\n",
    "  source_ids = tokenizer(source, padding='max_length', truncation=True, max_length=128)\n",
    "  target_ids = tokenizer(source, padding='max_length', truncation=True, max_length=128)\n",
    "\n",
    "  labels = target_ids['input_ids']\n",
    "  labels = [[(label if label != tokenizer.pad_token_id else -100) for label in labels_example] for labels_example in labels]\n",
    "\n",
    "  return{\n",
    "          'input_ids': source_ids['input_ids'],\n",
    "          'attention_mask': source_ids['attention_mask'],\n",
    "          'labels': labels\n",
    "      }"
   ]
  },
  {
   "cell_type": "code",
   "execution_count": null,
   "metadata": {
    "colab": {
     "base_uri": "https://localhost:8080/",
     "height": 113,
     "referenced_widgets": [
      "e63771b4bf6545adad216d17dca448b5",
      "78b52a145e0e4e71b3226e2ecbfc12f2",
      "0a030ef61f174d139fb56024efe1f3f8",
      "6ab14b68a65e44d89b697cfc82c7f9ae",
      "562e66c11c584050aa40c1c1e70e0c66",
      "57dbd67c6f114f6eadfc5ecc29145041",
      "42e2e14ee8944734a592d809f7fd916d",
      "64a2fa3b136b4eaab1dde2fe8a1bcb6f",
      "b62801f372804537b2ec2c6c6bdd4176",
      "df28fffeb06843a2b024e5fa7ce58c30",
      "c72eb2e7218241c9a5d8912bcb843cc0",
      "1514a7dd2f734f71952fa0a06f23af56",
      "fdee1e35eccc4afd8aae6ef9031cfac9",
      "c14ca60b2e034b76af4aec84285edde5",
      "6df74be8beec4827b4077e43022fdace",
      "841f7d24ca1147b29131e6fccf448af6",
      "d403c043dce5407881a24d06800e6506",
      "c74ddf59604e47beb016742cbaf4a8bf",
      "766644d2da944c0cb2052e07c9f65dab",
      "9bba5d442ba14597ba2b4d26f82e051c",
      "a63b1e227d11419bad7a2e539d42e609",
      "6958fa349f024ce8994861dbe31be4df",
      "f92d3f499fe54d8d85678a9e6811e2b4",
      "0eb1a8d976b24004b918b2b773b4e1c2",
      "aadc4b0ff29f456ead25f21c3607c5de",
      "ce23235d69e1413f8c70caabe9191fef",
      "45c45dedb0c643d4b43bad1ab7135dec",
      "cf3dc0e0f6bc4a2baca900097bf607dc",
      "13fcdae267154ceabda7a37c280d50a1",
      "95c9f904175c45e5afe68635cfc9890e",
      "35f7d5827d43452e87b7eb8dca9bb1e5",
      "831b701c8f814bc1add17e7caf42c614",
      "32e04671973f4690b15c88f4603b745f"
     ]
    },
    "id": "ytDsxAuZKrTq",
    "outputId": "07a87382-acf4-4fd3-80cf-91b37e0d9aed"
   },
   "outputs": [],
   "source": [
    "df_source = ds.map(preprocess_function, batched=True, batch_size=1000, num_proc=4)"
   ]
  },
  {
   "cell_type": "code",
   "execution_count": null,
   "metadata": {
    "id": "ppEbWpYzMtRG"
   },
   "outputs": [],
   "source": [
    "# training arguments\n",
    "from transformers import TrainingArguments, Trainer\n",
    "\n",
    "training_args = TrainingArguments(\n",
    "    output_dir='/content',          # output directory\n",
    "    num_train_epochs=2,              # total number of training epochs\n",
    "    per_device_train_batch_size=8,\n",
    "    remove_unused_columns=True\n",
    ")"
   ]
  },
  {
   "cell_type": "code",
   "execution_count": null,
   "metadata": {
    "id": "CCnkzakuNeK4"
   },
   "outputs": [],
   "source": [
    "trainer = Trainer(\n",
    "    model=model,\n",
    "    args=training_args,\n",
    "    train_dataset=df_source['train'],\n",
    "    eval_dataset=df_source['test']\n",
    ")\n"
   ]
  },
  {
   "cell_type": "code",
   "execution_count": null,
   "metadata": {
    "colab": {
     "base_uri": "https://localhost:8080/",
     "height": 631
    },
    "id": "KIY7hQzI3xod",
    "outputId": "5b85e404-7133-48b8-e288-5beb4c91491d"
   },
   "outputs": [],
   "source": [
    "trainer.train()"
   ]
  },
  {
   "cell_type": "code",
   "execution_count": null,
   "metadata": {
    "colab": {
     "base_uri": "https://localhost:8080/",
     "height": 37
    },
    "id": "28ij0r_Val6i",
    "outputId": "7b0c3469-bd92-4a9f-9b3e-91356f00a1b1"
   },
   "outputs": [],
   "source": [
    "eval_results = trainer.evaluate()"
   ]
  },
  {
   "cell_type": "code",
   "execution_count": null,
   "metadata": {
    "colab": {
     "base_uri": "https://localhost:8080/"
    },
    "id": "80bWaFcOa-AN",
    "outputId": "0ce08ba7-f629-49d0-84f3-4559518e84f3"
   },
   "outputs": [],
   "source": [
    "eval_results"
   ]
  },
  {
   "cell_type": "markdown",
   "metadata": {
    "id": "4aX7KXRub8AV"
   },
   "source": [
    "## SAVING THE MODEL"
   ]
  },
  {
   "cell_type": "code",
   "execution_count": null,
   "metadata": {
    "colab": {
     "base_uri": "https://localhost:8080/"
    },
    "id": "OxSTpZH2cHir",
    "outputId": "6fbe9cb4-f85c-467b-8d96-c16a7c692335"
   },
   "outputs": [],
   "source": [
    "model.save_pretrained('/content/model_directory')\n",
    "tokenizer.save_pretrained('/content/model_directory')"
   ]
  },
  {
   "cell_type": "code",
   "execution_count": null,
   "metadata": {
    "colab": {
     "base_uri": "https://localhost:8080/"
    },
    "id": "0zEAdCAOc0GW",
    "outputId": "7d5a8479-f6e8-4e96-b7d3-769e0a556d45"
   },
   "outputs": [],
   "source": [
    "tokenizer = AutoTokenizer.from_pretrained('/content/model_directory')\n",
    "model = AutoModelForSeq2SeqLM.from_pretrained('/content/model_directory')\n",
    "\n",
    "def summarize(blog_post):\n",
    "  #Tokenize the input blog post\n",
    "  inputs = tokenizer(blog_post, max_length = 1024, truncation = True, return_tensors = 'pt' )\n",
    "\n",
    "  #Generate the summary\n",
    "  summary_ids = model.generate(inputs['input_ids'], max_length = 150, num_beams = 4,  no_repeat_ngram_size=2, min_length = 40, early_stopping = True)\n",
    "\n",
    "  #Decode the summary\n",
    "  summary = tokenizer.decode(summary_ids[0], skip_special_tokens= True)\n",
    "\n",
    "  return summary"
   ]
  },
  {
   "cell_type": "code",
   "execution_count": null,
   "metadata": {
    "colab": {
     "base_uri": "https://localhost:8080/"
    },
    "id": "MoM6PxLbfoH3",
    "outputId": "e5a71459-5477-4a3b-cf13-6efc9dcbb9fd"
   },
   "outputs": [],
   "source": [
    "blog_post = \"\"\"\n",
    "Presidents aren’t supposed to direct IRS investigations\n",
    "US law specifically prohibits presidents from directing the IRS to investigate anyone in a section entitled: “Prohibition on executive branch influence over taxpayer audits and other investigations.”\n",
    "\n",
    "While the IRS falls under the Treasury Department, it’s important that it be as protected from politics as possible. That’s why the IRS has only two politically appointed officials, according to Mark Mazur, who was assistant secretary of treasury for tax policy at the outset of the Biden administration\n",
    "\n",
    "The US has higher voluntary tax payment rates than other countries, Mazur told me, “because people feel that their interactions with the tax system are fair and based on law.”\n",
    "\n",
    "If the IRS is suddenly used for political purposes, that trust could be destroyed. During the Obama administration, for instance, the IRS became embroiled in a bona fide scandal when a Treasury Department investigation found the IRS delayed conferring tax-exempt status on conservative groups.\n",
    "\n",
    "If the IRS did find that its tax-exempt status should be revoked, Harvard would need to be warned and given an opportunity to contest the finding. It would also have the opportunity to challenge the IRS in court.\n",
    "\n",
    "There is already a lot of chaos at the IRS under the new Trump administration. Multiple acting commissioners have resigned, apparently the result a standoff over whether tax data could be used by immigration officials.\n",
    "\n",
    "It would not be unprecedented for a university to lose its tax-exempt status\n",
    "Back in 1983, the Supreme Court agreed that Bob Jones University should not be tax-exempt because, at the time, it banned interracial relationships among its students.\n",
    "\n",
    "The university didn’t drop its interracial marriage policy until 2000 — in an announcement on CNN’s Larry King Live, coincidentally — although it did not regain its tax-exempt status until 2017.\n",
    "\n",
    "The US has now come full circle to the point that one of the main gripes Trump has with Harvard is its diversity programs.\n",
    "\"\"\"\n",
    "summary = summarize(blog_post)\n",
    "print(f'Summary : {summary}')"
   ]
  }
 ],
 "metadata": {
  "accelerator": "GPU",
  "colab": {
   "gpuType": "T4",
   "include_colab_link": true,
   "provenance": []
  },
  "kernelspec": {
   "display_name": "Python 3",
   "name": "python3"
  },
  "language_info": {
   "name": "python"
  }
 },
 "nbformat": 4,
 "nbformat_minor": 0
}
